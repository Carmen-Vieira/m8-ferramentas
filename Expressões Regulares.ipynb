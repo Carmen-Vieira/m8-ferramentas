{
 "cells": [
  {
   "cell_type": "markdown",
   "metadata": {},
   "source": [
    "### Exercício\n",
    "\n",
    "Dado uma entrada do genbank (como a do exemplo anterior), escreva um pequeno programa que, dado um registo, dá a lista de proteínas (só o identificador) que são codificadas a partir de partes da sequência de DNA.\n",
    "\n",
    "Opcionalmente, em vez de apresentar só o identificador da proteína, apresente o URL necessário para consultar mais informações sobre a mesma. O URL tem a seguinte forma: base + sufixo, em que a base é `https://www.ncbi.nlm.nih.gov/protein/` e o sufixo é o identificador da proteína.\n",
    "\n",
    "Exemplo:\n",
    "\n",
    "dados o seguinte registo em texto (abreviado):\n",
    "```\n",
    "LOCUS       HIVI5C                   231 bp    DNA     linear   VRL 24-MAR-1997\n",
    "DEFINITION  Human immunodeficiency virus type 1 (isolate genotype C, I5) gag\n",
    "            gene, partial cds.\n",
    "ACCESSION   L42022\n",
    "VERSION     L42022.1\n",
    "(...)\n",
    "FEATURES             Location/Qualifiers\n",
    "     source          1..231\n",
    "                     /organism=\"Human immunodeficiency virus 1\"\n",
    "                     /proviral\n",
    "                     /mol_type=\"genomic DNA\"\n",
    "                     /isolate=\"genotype C, I5\"\n",
    "                     /db_xref=\"taxon:11676\"\n",
    "     gene            1..231\n",
    "                     /gene=\"gag\"\n",
    "     CDS             <1..>231\n",
    "                     /gene=\"gag\"\n",
    "                     /codon_start=1\n",
    "                     /protein_id=\"AAB50165.1\"\n",
    "                     /translation=\"HPVHAGPIAPGQMREPRGSDIAGTTSTLQEQVAWMTGNPPVPVG\n",
    "                     EIYKRWIILGLNKIVRMYSPVSILDIKQGPKEP\"\n",
    "ORIGIN      \n",
    "        1 catccagtac atgcagggcc tattgcacca ggccaaatga gagaaccaag gggaagtgac\n",
    "       61 atagcaggaa ctacaagtac ccttcaggaa caagtagcat ggatgacagg taacccacct\n",
    "      121 gttccagtgg gagaaatcta taaaagatgg ataattctgg gattaaataa aatagtaaga\n",
    "      181 atgtatagcc ctgtcagcat tttggacata aaacaagggc caaaggaacc c\n",
    "//\n",
    "```\n",
    "\n",
    "O resultado deveria ser:\n",
    "```\n",
    "AAB50165.1\n",
    "```\n",
    "\n",
    "Em alternativa, o resultado poderia ser:\n",
    "```\n",
    "https://www.ncbi.nlm.nih.gov/protein/AAB50165.1\n",
    "```\n"
   ]
  },
  {
   "cell_type": "code",
   "execution_count": 18,
   "metadata": {},
   "outputs": [
    {
     "name": "stdout",
     "output_type": "stream",
     "text": [
      "LOCUS       HIVI5C                   231 bp    DNA     linear   VRL 24-MAR-1997\n",
      "DEFINITION  Human immunodeficiency virus type 1 (isolate genotype C, I5) gag\n",
      "            gene, partial cds.\n",
      "ACCESSION   L42022\n",
      "VERSION     L42022.1\n",
      "KEYWORDS    gag gene; p24 protein.\n",
      "SOURCE      Human immunodeficiency virus 1 (HIV-1)\n",
      "  ORGANISM  Human immunodeficiency virus 1\n",
      "            Viruses; Riboviria; Pararnavirae; Artverviricota; Revtraviricetes;\n",
      "            Ortervirales; Retroviridae; Orthoretrovirinae; Lentivirus.\n",
      "REFERENCE   1  (bases 1 to 231)\n",
      "  AUTHORS   Voevodin,A., Crandall,K.A., Seth,P. and al Mufti,S.\n",
      "  TITLE     HIV type 1 subtypes B and C from new regions of India and Indian\n",
      "            and Ethiopian expatriates in Kuwait\n",
      "  JOURNAL   AIDS Res. Hum. Retroviruses 12 (7), 641-643 (1996)\n",
      "   PUBMED   8743090\n",
      "FEATURES             Location/Qualifiers\n",
      "     source          1..231\n",
      "                     /organism=\"Human immunodeficiency virus 1\"\n",
      "                     /proviral\n",
      "                     /mol_type=\"genomic DNA\"\n",
      "                     /isolate=\"genotype C, I5\"\n",
      "                     /db_xref=\"taxon:11676\"\n",
      "     gene            1..231\n",
      "                     /gene=\"gag\"\n",
      "     CDS             <1..>231\n",
      "                     /gene=\"gag\"\n",
      "                     /codon_start=1\n",
      "                     /protein_id=\"AAB50165.1\"\n",
      "                     /translation=\"HPVHAGPIAPGQMREPRGSDIAGTTSTLQEQVAWMTGNPPVPVG\n",
      "                     EIYKRWIILGLNKIVRMYSPVSILDIKQGPKEP\"\n",
      "ORIGIN      \n",
      "        1 catccagtac atgcagggcc tattgcacca ggccaaatga gagaaccaag gggaagtgac\n",
      "       61 atagcaggaa ctacaagtac ccttcaggaa caagtagcat ggatgacagg taacccacct\n",
      "      121 gttccagtgg gagaaatcta taaaagatgg ataattctgg gattaaataa aatagtaaga\n",
      "      181 atgtatagcc ctgtcagcat tttggacata aaacaagggc caaaggaacc c\n",
      "//\n",
      "\n",
      "\n"
     ]
    }
   ],
   "source": [
    "\n",
    "import re\n",
    "\n",
    "fonte = open(\"L42022.1.gb\",'r')\n",
    "locus = fonte.read()\n",
    "fonte.close()\n",
    "print( locus )"
   ]
  },
  {
   "cell_type": "code",
   "execution_count": null,
   "metadata": {},
   "outputs": [],
   "source": []
  }
 ],
 "metadata": {
  "kernelspec": {
   "display_name": "Python 3 (ipykernel)",
   "language": "python",
   "name": "python3"
  },
  "language_info": {
   "codemirror_mode": {
    "name": "ipython",
    "version": 3
   },
   "file_extension": ".py",
   "mimetype": "text/x-python",
   "name": "python",
   "nbconvert_exporter": "python",
   "pygments_lexer": "ipython3",
   "version": "3.9.13"
  },
  "vscode": {
   "interpreter": {
    "hash": "916dbcbb3f70747c44a77c7bcd40155683ae19c65e1c03b4aa3499c5328201f1"
   }
  }
 },
 "nbformat": 4,
 "nbformat_minor": 2
}
