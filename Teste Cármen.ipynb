{
 "cells": [
  {
   "cell_type": "code",
   "execution_count": null,
   "id": "605947ee",
   "metadata": {},
   "outputs": [],
   "source": []
  },
  {
   "cell_type": "code",
   "execution_count": 2,
   "id": "78195b8e",
   "metadata": {},
   "outputs": [
    {
     "name": "stdout",
     "output_type": "stream",
     "text": [
      "LOCUS       HIVI5C                   231 bp    DNA     linear   VRL 24-MAR-1997\n",
      "DEFINITION  Human immunodeficiency virus type 1 (isolate genotype C, I5) gag\n",
      "            gene, partial cds.\n",
      "ACCESSION   L42022\n",
      "VERSION     L42022.1\n",
      "KEYWORDS    gag gene; p24 protein.\n",
      "SOURCE      Human immunodeficiency virus 1 (HIV-1)\n",
      "  ORGANISM  Human immunodeficiency virus 1\n",
      "            Viruses; Riboviria; Pararnavirae; Artverviricota; Revtraviricetes;\n",
      "            Ortervirales; Retroviridae; Orthoretrovirinae; Lentivirus.\n",
      "REFERENCE   1  (bases 1 to 231)\n",
      "  AUTHORS   Voevodin,A., Crandall,K.A., Seth,P. and al Mufti,S.\n",
      "  TITLE     HIV type 1 subtypes B and C from new regions of India and Indian\n",
      "            and Ethiopian expatriates in Kuwait\n",
      "  JOURNAL   AIDS Res. Hum. Retroviruses 12 (7), 641-643 (1996)\n",
      "   PUBMED   8743090\n",
      "FEATURES             Location/Qualifiers\n",
      "     source          1..231\n",
      "                     /organism=\"Human immunodeficiency virus 1\"\n",
      "                     /proviral\n",
      "                     /mol_type=\"genomic DNA\"\n",
      "                     /isolate=\"genotype C, I5\"\n",
      "                     /db_xref=\"taxon:11676\"\n",
      "     gene            1..231\n",
      "                     /gene=\"gag\"\n",
      "     CDS             <1..>231\n",
      "                     /gene=\"gag\"\n",
      "                     /codon_start=1\n",
      "                     /protein_id=\"AAB50165.1\"\n",
      "                     /translation=\"HPVHAGPIAPGQMREPRGSDIAGTTSTLQEQVAWMTGNPPVPVG\n",
      "                     EIYKRWIILGLNKIVRMYSPVSILDIKQGPKEP\"\n",
      "ORIGIN      \n",
      "        1 catccagtac atgcagggcc tattgcacca ggccaaatga gagaaccaag gggaagtgac\n",
      "       61 atagcaggaa ctacaagtac ccttcaggaa caagtagcat ggatgacagg taacccacct\n",
      "      121 gttccagtgg gagaaatcta taaaagatgg ataattctgg gattaaataa aatagtaaga\n",
      "      181 atgtatagcc ctgtcagcat tttggacata aaacaagggc caaaggaacc c\n",
      "//\n",
      "\n",
      "\n"
     ]
    }
   ],
   "source": [
    "import re\n",
    "\n",
    "fonte = open(\"L42022.1.gb\",'r')\n",
    "locus = fonte.read()\n",
    "fonte.close()\n",
    "print( locus )"
   ]
  },
  {
   "cell_type": "code",
   "execution_count": 6,
   "id": "8c163f83",
   "metadata": {},
   "outputs": [
    {
     "ename": "SyntaxError",
     "evalue": "invalid syntax (3451091447.py, line 8)",
     "output_type": "error",
     "traceback": [
      "\u001b[1;36m  File \u001b[1;32m\"C:\\Users\\Cármen Vieira\\AppData\\Local\\Temp\\ipykernel_26584\\3451091447.py\"\u001b[1;36m, line \u001b[1;32m8\u001b[0m\n\u001b[1;33m    ```\u001b[0m\n\u001b[1;37m    ^\u001b[0m\n\u001b[1;31mSyntaxError\u001b[0m\u001b[1;31m:\u001b[0m invalid syntax\n"
     ]
    }
   ],
   "source": [
    "### Exercício TESTE\n",
    "\n",
    "###Dado uma entrada do genbank (como a do exemplo anterior), escreva um pequeno programa que, dado um registo, dá todos os títulos das referências que aparecem no registo.\n",
    "\n",
    "###Exemplo:\n",
    "\n",
    "#dados o seguinte registo em texto (abreviado):\n",
    "```\n",
    "#LOCUS       HIVI5C                   231 bp    DNA     linear   VRL 24-MAR-1997\n",
    "#DEFINITION  Human immunodeficiency virus type 1 (isolate genotype C, I5) gag\n",
    "           # gene, partial cds.\n",
    "#ACCESSION   L42022\n",
    "#VERSION     L42022.1\n",
    "#KEYWORDS    gag gene; p24 protein.\n",
    "#SOURCE      Human immunodeficiency virus 1 (HIV-1)\n",
    " # ORGANISM  Human immunodeficiency virus 1\n",
    "  #          Viruses; Riboviria; Pararnavirae; Artverviricota; Revtraviricetes;\n",
    "   #         Ortervirales; Retroviridae; Orthoretrovirinae; Lentivirus.\n",
    "#REFERENCE   1  (bases 1 to 231)\n",
    " # AUTHORS   Voevodin,A., Crandall,K.A., Seth,P. and al Mufti,S.\n",
    "  #TITLE     HIV type 1 subtypes B and C from new regions of India and Indian\n",
    "   #         and Ethiopian expatriates in Kuwait\n",
    "  #JOURNAL   AIDS Res. Hum. Retroviruses 12 (7), 641-643 (1996)\n",
    "   #PUBMED   8743090\n",
    "#(...)\n",
    "#```"
   ]
  },
  {
   "cell_type": "code",
   "execution_count": 3,
   "id": "ab7df292",
   "metadata": {},
   "outputs": [
    {
     "name": "stdout",
     "output_type": "stream",
     "text": [
      "Whole-genome random sequencing and assembly of Haemophilus influenzae Rd \n",
      "Metabolism and evolution of Haemophilus influenzae deduced from a whole-genome comparison with Escherichia coli \n",
      "Direct Submission \n",
      "Direct Submission \n",
      "Direct Submission \n"
     ]
    }
   ],
   "source": [
    "import re\n",
    "\n",
    "# fonte = open(\"L42022.1.gb\",'r')\n",
    "fonte = open(\"L42023.1.gb\",'r')\n",
    "locus = fonte.read()\n",
    "fonte.close()\n",
    "\n",
    "# ver https://docs.python.org/3/howto/regex.html#lookahead-assertions\n",
    "# ver https://docs.python.org/3/howto/regex.html#greedy-versus-non-greedy\n",
    "existe = re.findall(r'TITLE\\s+.*?(?=JOURNAL)', locus, re.DOTALL)\n",
    "if existe:\n",
    "    for title in existe:\n",
    "        m = re.match( r'TITLE\\s+(.+)', title, re.DOTALL )\n",
    "        # print( m.group(1) )\n",
    "        print( re.sub(r'\\s+', ' ', m.group(1) ) )"
   ]
  },
  {
   "cell_type": "code",
   "execution_count": null,
   "id": "8b9dba91",
   "metadata": {},
   "outputs": [],
   "source": [
    "import re\n",
    "\n",
    "# fonte = open(\"L42022.1.gb\",'r')\n",
    "fonte = open(\"L42023.1.gb\",'r')\n",
    "locus = fonte.read()\n",
    "fonte.close()\n",
    "\n",
    "\n",
    "existe = re.findall(r'TITLE\\s+.*?(?=JOURNAL)', locus, re.DOTALL)\n",
    "if existe:\n",
    "    for title in existe:\n",
    "        m = re.match( r'TITLE\\s+(.+)', title, re.DOTALL )\n",
    "        # print( m.group(1) )\n",
    "        print( re.sub(r'\\s+', ' ', m.group(1) ) )"
   ]
  }
 ],
 "metadata": {
  "kernelspec": {
   "display_name": "Python 3 (ipykernel)",
   "language": "python",
   "name": "python3"
  },
  "language_info": {
   "codemirror_mode": {
    "name": "ipython",
    "version": 3
   },
   "file_extension": ".py",
   "mimetype": "text/x-python",
   "name": "python",
   "nbconvert_exporter": "python",
   "pygments_lexer": "ipython3",
   "version": "3.9.13"
  }
 },
 "nbformat": 4,
 "nbformat_minor": 5
}
